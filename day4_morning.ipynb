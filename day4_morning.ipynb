{
 "cells": [
  {
   "cell_type": "code",
   "execution_count": 1,
   "metadata": {},
   "outputs": [],
   "source": [
    "import numpy as np"
   ]
  },
  {
   "cell_type": "code",
   "execution_count": 2,
   "metadata": {},
   "outputs": [],
   "source": [
    "values231 =  np.array([[[1],[2],[3]], [[2],[3],[4]]])"
   ]
  },
  {
   "cell_type": "code",
   "execution_count": 3,
   "metadata": {},
   "outputs": [
    {
     "name": "stdout",
     "output_type": "stream",
     "text": [
      "입력데이터의 shape (2, 3, 1)\n"
     ]
    }
   ],
   "source": [
    "print('입력데이터의 shape', values231.shape)"
   ]
  },
  {
   "cell_type": "code",
   "execution_count": 4,
   "metadata": {},
   "outputs": [],
   "source": [
    "import tensorflow as tf"
   ]
  },
  {
   "cell_type": "code",
   "execution_count": 5,
   "metadata": {},
   "outputs": [],
   "source": [
    "tf.reset_default_graph()"
   ]
  },
  {
   "cell_type": "code",
   "execution_count": 6,
   "metadata": {},
   "outputs": [],
   "source": [
    "tf_values231 = tf.constant(values231, dtype=tf.float32)"
   ]
  },
  {
   "cell_type": "code",
   "execution_count": 7,
   "metadata": {},
   "outputs": [
    {
     "name": "stderr",
     "output_type": "stream",
     "text": [
      "WARNING: Logging before flag parsing goes to stderr.\n",
      "W0928 12:01:30.431138  3884 lazy_loader.py:50] \n",
      "The TensorFlow contrib module will not be included in TensorFlow 2.0.\n",
      "For more information, please see:\n",
      "  * https://github.com/tensorflow/community/blob/master/rfcs/20180907-contrib-sunset.md\n",
      "  * https://github.com/tensorflow/addons\n",
      "  * https://github.com/tensorflow/io (for I/O related ops)\n",
      "If you depend on functionality not listed there, please file an issue.\n",
      "\n",
      "W0928 12:01:30.431138  3884 deprecation.py:323] From <ipython-input-7-489523800ee5>:2: LSTMCell.__init__ (from tensorflow.python.ops.rnn_cell_impl) is deprecated and will be removed in a future version.\n",
      "Instructions for updating:\n",
      "This class is equivalent as tf.keras.layers.LSTMCell, and will be replaced by that in Tensorflow 2.0.\n"
     ]
    }
   ],
   "source": [
    "# hidden -100\n",
    "lstm_cell = tf.contrib.rnn.LSTMCell(num_units=100)"
   ]
  },
  {
   "cell_type": "code",
   "execution_count": 8,
   "metadata": {},
   "outputs": [
    {
     "name": "stderr",
     "output_type": "stream",
     "text": [
      "W0928 12:01:30.440361  3884 deprecation.py:323] From <ipython-input-8-4192a012b892>:3: dynamic_rnn (from tensorflow.python.ops.rnn) is deprecated and will be removed in a future version.\n",
      "Instructions for updating:\n",
      "Please use `keras.layers.RNN(cell)`, which is equivalent to this API\n",
      "W0928 12:01:30.488276  3884 deprecation.py:506] From C:\\Users\\KITCOOP\\Anaconda3\\lib\\site-packages\\tensorflow\\python\\ops\\init_ops.py:1251: calling VarianceScaling.__init__ (from tensorflow.python.ops.init_ops) with dtype is deprecated and will be removed in a future version.\n",
      "Instructions for updating:\n",
      "Call initializer instance with the dtype argument instead of passing it to the constructor\n",
      "W0928 12:01:30.496253  3884 deprecation.py:506] From C:\\Users\\KITCOOP\\Anaconda3\\lib\\site-packages\\tensorflow\\python\\ops\\rnn_cell_impl.py:961: calling Zeros.__init__ (from tensorflow.python.ops.init_ops) with dtype is deprecated and will be removed in a future version.\n",
      "Instructions for updating:\n",
      "Call initializer instance with the dtype argument instead of passing it to the constructor\n"
     ]
    }
   ],
   "source": [
    "# static_rnn(사이즈고정), dynamic_rnn(유동) 모델\n",
    "# outputs = 출력, control: 문제점 해결위해서 존재, hidden\n",
    "outputs, state = tf.nn.dynamic_rnn(cell=lstm_cell, dtype=tf.float32, inputs=tf_values231)"
   ]
  },
  {
   "cell_type": "code",
   "execution_count": 9,
   "metadata": {},
   "outputs": [
    {
     "name": "stdout",
     "output_type": "stream",
     "text": [
      "rnn이 출력하는 outputs의 의미 (2, 3, 100)\n"
     ]
    }
   ],
   "source": [
    "print('rnn이 출력하는 outputs의 의미', outputs.shape)"
   ]
  },
  {
   "cell_type": "code",
   "execution_count": 10,
   "metadata": {},
   "outputs": [
    {
     "name": "stdout",
     "output_type": "stream",
     "text": [
      "(2, 100)\n",
      "(2, 100)\n"
     ]
    }
   ],
   "source": [
    "# State값은 최종 결과값\n",
    "print(state.c.shape)\n",
    "print(state.h.shape)"
   ]
  },
  {
   "cell_type": "code",
   "execution_count": 11,
   "metadata": {},
   "outputs": [],
   "source": [
    "with tf.Session() as sess:\n",
    "    sess.run(tf.global_variables_initializer())\n",
    "    output_run, state_run = sess.run([outputs, state])"
   ]
  },
  {
   "cell_type": "markdown",
   "metadata": {},
   "source": [
    "### "
   ]
  },
  {
   "cell_type": "code",
   "execution_count": 12,
   "metadata": {},
   "outputs": [],
   "source": [
    "import numpy as np\n",
    "import os\n",
    "import tensorflow as tf"
   ]
  },
  {
   "cell_type": "code",
   "execution_count": 13,
   "metadata": {},
   "outputs": [],
   "source": [
    "def reset_graph(seed=42):\n",
    "    tf.reset_default_graph()\n",
    "    tf.set_random_seed(seed)\n",
    "    np.random.seed(seed)"
   ]
  },
  {
   "cell_type": "code",
   "execution_count": 14,
   "metadata": {},
   "outputs": [],
   "source": [
    "n_inputs = 3\n",
    "n_neurons = 5\n",
    "reset_graph()"
   ]
  },
  {
   "cell_type": "code",
   "execution_count": 15,
   "metadata": {},
   "outputs": [],
   "source": [
    "X0 = tf.placeholder(tf.float32, [None, n_inputs])\n",
    "X1 = tf.placeholder(tf.float32, [None, n_inputs])"
   ]
  },
  {
   "cell_type": "code",
   "execution_count": 16,
   "metadata": {},
   "outputs": [
    {
     "name": "stderr",
     "output_type": "stream",
     "text": [
      "W0928 12:01:31.403661  3884 deprecation.py:323] From <ipython-input-16-9cc9eddd71c1>:2: BasicRNNCell.__init__ (from tensorflow.python.ops.rnn_cell_impl) is deprecated and will be removed in a future version.\n",
      "Instructions for updating:\n",
      "This class is equivalent as tf.keras.layers.SimpleRNNCell, and will be replaced by that in Tensorflow 2.0.\n"
     ]
    }
   ],
   "source": [
    "# 5개\n",
    "basic_cell = tf.contrib.rnn.BasicRNNCell(num_units=n_neurons) # n_neurons = hidden"
   ]
  },
  {
   "cell_type": "code",
   "execution_count": 17,
   "metadata": {},
   "outputs": [
    {
     "name": "stderr",
     "output_type": "stream",
     "text": [
      "W0928 12:01:31.472067  3884 deprecation.py:323] From <ipython-input-17-9a3a843ddddd>:1: static_rnn (from tensorflow.python.ops.rnn) is deprecated and will be removed in a future version.\n",
      "Instructions for updating:\n",
      "Please use `keras.layers.RNN(cell, unroll=True)`, which is equivalent to this API\n"
     ]
    }
   ],
   "source": [
    "output_seqs, states = tf.contrib.rnn.static_rnn(basic_cell, [X0,X1], dtype=tf.float32)"
   ]
  },
  {
   "cell_type": "code",
   "execution_count": 18,
   "metadata": {},
   "outputs": [],
   "source": [
    "Y0, Y1 = output_seqs #2x4x5 -> 1x4x5(Y0), 1x4x5(Y1) -> RNN특성값으로 표현"
   ]
  },
  {
   "cell_type": "code",
   "execution_count": 19,
   "metadata": {},
   "outputs": [],
   "source": [
    "init = tf.global_variables_initializer()\n",
    "\n",
    "# 1x4x3\n",
    "X0_batch = np.array(\n",
    "    [[0,1,2],[3,4,5],[6,7,8],[9,0,1]]\n",
    ")\n",
    "X1_batch = np.array(\n",
    "    [[9,8,7],[0,0,0],[6,5,4],[3,2,1]]\n",
    ")"
   ]
  },
  {
   "cell_type": "code",
   "execution_count": 20,
   "metadata": {},
   "outputs": [
    {
     "data": {
      "text/plain": [
       "(4, 3)"
      ]
     },
     "execution_count": 20,
     "metadata": {},
     "output_type": "execute_result"
    }
   ],
   "source": [
    "X0_batch.shape"
   ]
  },
  {
   "cell_type": "code",
   "execution_count": 21,
   "metadata": {},
   "outputs": [],
   "source": [
    "with tf.Session() as sess:\n",
    "    init.run()\n",
    "    Y0_val, Y1_val = sess.run([Y0,Y1], feed_dict={X0: X0_batch, X1:X1_batch})"
   ]
  },
  {
   "cell_type": "code",
   "execution_count": 22,
   "metadata": {},
   "outputs": [
    {
     "data": {
      "text/plain": [
       "(4, 5)"
      ]
     },
     "execution_count": 22,
     "metadata": {},
     "output_type": "execute_result"
    }
   ],
   "source": [
    "\n",
    "Y0_val.shape"
   ]
  },
  {
   "cell_type": "code",
   "execution_count": 23,
   "metadata": {},
   "outputs": [
    {
     "data": {
      "text/plain": [
       "(4, 5)"
      ]
     },
     "execution_count": 23,
     "metadata": {},
     "output_type": "execute_result"
    }
   ],
   "source": [
    "Y1_val.shape"
   ]
  },
  {
   "cell_type": "markdown",
   "metadata": {},
   "source": [
    "############"
   ]
  },
  {
   "cell_type": "code",
   "execution_count": 24,
   "metadata": {},
   "outputs": [],
   "source": [
    "values352 = np.array([\n",
    "    [[1,4],[2,5],[3,6],[4,7],[5,8]],\n",
    "    [[2,5],[3,6],[4,7],[5,8],[6,9]],\n",
    "    [[3,6],[4,7],[5,8],[6,9],[7,10]]\n",
    "])"
   ]
  },
  {
   "cell_type": "code",
   "execution_count": 25,
   "metadata": {},
   "outputs": [
    {
     "data": {
      "text/plain": [
       "(3, 5, 2)"
      ]
     },
     "execution_count": 25,
     "metadata": {},
     "output_type": "execute_result"
    }
   ],
   "source": [
    "values352.shape"
   ]
  },
  {
   "cell_type": "code",
   "execution_count": 26,
   "metadata": {},
   "outputs": [],
   "source": [
    "import tensorflow as tf"
   ]
  },
  {
   "cell_type": "code",
   "execution_count": 27,
   "metadata": {},
   "outputs": [],
   "source": [
    "tf.reset_default_graph()"
   ]
  },
  {
   "cell_type": "code",
   "execution_count": 28,
   "metadata": {},
   "outputs": [],
   "source": [
    "tf_values231 = tf.constant(values231, dtype = tf.float32)\n",
    "\n",
    "# hidden cell 100\n",
    "lstm_cell = tf.contrib.rnn.LSTMCell(num_units=100)\n",
    "\n",
    "# 2 -> 100\n",
    "# 3x100 출력\n",
    "outputs, state = tf.nn.dynamic_rnn(cell=lstm_cell, dtype=tf.float32, inputs=tf_values231)"
   ]
  },
  {
   "cell_type": "code",
   "execution_count": 29,
   "metadata": {},
   "outputs": [
    {
     "name": "stdout",
     "output_type": "stream",
     "text": [
      "Tensor(\"rnn/transpose_1:0\", shape=(2, 3, 100), dtype=float32)\n"
     ]
    }
   ],
   "source": [
    "print(outputs)"
   ]
  },
  {
   "cell_type": "code",
   "execution_count": 30,
   "metadata": {},
   "outputs": [
    {
     "name": "stdout",
     "output_type": "stream",
     "text": [
      "Tensor(\"rnn/while/Exit_3:0\", shape=(2, 100), dtype=float32)\n"
     ]
    }
   ],
   "source": [
    "print(state.c)"
   ]
  },
  {
   "cell_type": "code",
   "execution_count": 31,
   "metadata": {},
   "outputs": [
    {
     "name": "stdout",
     "output_type": "stream",
     "text": [
      "Tensor(\"rnn/while/Exit_4:0\", shape=(2, 100), dtype=float32)\n"
     ]
    }
   ],
   "source": [
    "print(state.h)"
   ]
  },
  {
   "cell_type": "code",
   "execution_count": 32,
   "metadata": {},
   "outputs": [],
   "source": [
    "with tf.Session() as sess:\n",
    "    sess.run(tf.global_variables_initializer())\n",
    "    output_run, state_run = sess.run([outputs, state])"
   ]
  },
  {
   "cell_type": "markdown",
   "metadata": {},
   "source": [
    "#####"
   ]
  },
  {
   "cell_type": "code",
   "execution_count": 33,
   "metadata": {},
   "outputs": [],
   "source": [
    "reset_graph()\n",
    "\n",
    "n_steps = 28\n",
    "n_inputs = 28\n",
    "n_neurons = 150\n",
    "n_outputs = 10\n",
    "learning_rate = 0.001"
   ]
  },
  {
   "cell_type": "code",
   "execution_count": 34,
   "metadata": {},
   "outputs": [],
   "source": [
    "X = tf.placeholder(tf.float32, [None, n_steps, n_inputs])\n",
    "y = tf.placeholder(tf.int32, [None])"
   ]
  },
  {
   "cell_type": "code",
   "execution_count": 35,
   "metadata": {},
   "outputs": [
    {
     "name": "stderr",
     "output_type": "stream",
     "text": [
      "W0928 12:01:33.213869  3884 deprecation.py:323] From <ipython-input-35-7afbae36138a>:3: dense (from tensorflow.python.layers.core) is deprecated and will be removed in a future version.\n",
      "Instructions for updating:\n",
      "Use keras.layers.dense instead.\n"
     ]
    }
   ],
   "source": [
    "basic_cell = tf.contrib.rnn.BasicRNNCell(num_units = n_neurons)\n",
    "outputs, states = tf.nn.dynamic_rnn(basic_cell, X, dtype=tf.float32)\n",
    "\n",
    "# 가중치\n",
    "logits = tf.layers.dense(states, n_outputs)\n",
    "xentropy = tf.nn.sparse_softmax_cross_entropy_with_logits(labels=y, logits=logits)"
   ]
  },
  {
   "cell_type": "code",
   "execution_count": 37,
   "metadata": {},
   "outputs": [],
   "source": [
    "loss = tf.reduce_mean(xentropy)\n",
    "optimizer = tf.train.AdamOptimizer(learning_rate=learning_rate)\n",
    "training_op = optimizer.minimize(loss)\n",
    "\n",
    "# 10개짜리 확률과 1개의 target 값으로 비교\n",
    "correct = tf.nn.in_top_k(logits, y, 1)\n",
    "\n",
    "# 소수점 유지하기 위해 \n",
    "accuracy = tf.reduce_mean(tf.cast(correct, tf.float32))"
   ]
  },
  {
   "cell_type": "code",
   "execution_count": 38,
   "metadata": {},
   "outputs": [],
   "source": [
    "init = tf.global_variables_initializer()"
   ]
  },
  {
   "cell_type": "code",
   "execution_count": 39,
   "metadata": {},
   "outputs": [
    {
     "name": "stderr",
     "output_type": "stream",
     "text": [
      "W0928 12:03:43.486958  3884 deprecation.py:323] From <ipython-input-39-cfd3bd6057da>:3: read_data_sets (from tensorflow.contrib.learn.python.learn.datasets.mnist) is deprecated and will be removed in a future version.\n",
      "Instructions for updating:\n",
      "Please use alternatives such as official/mnist/dataset.py from tensorflow/models.\n",
      "W0928 12:03:43.487933  3884 deprecation.py:323] From C:\\Users\\KITCOOP\\Anaconda3\\lib\\site-packages\\tensorflow\\contrib\\learn\\python\\learn\\datasets\\mnist.py:260: maybe_download (from tensorflow.contrib.learn.python.learn.datasets.base) is deprecated and will be removed in a future version.\n",
      "Instructions for updating:\n",
      "Please write your own downloading logic.\n",
      "W0928 12:03:43.537584  3884 deprecation.py:323] From C:\\Users\\KITCOOP\\Anaconda3\\lib\\site-packages\\tensorflow\\contrib\\learn\\python\\learn\\datasets\\mnist.py:262: extract_images (from tensorflow.contrib.learn.python.learn.datasets.mnist) is deprecated and will be removed in a future version.\n",
      "Instructions for updating:\n",
      "Please use tf.data to implement this functionality.\n"
     ]
    },
    {
     "name": "stdout",
     "output_type": "stream",
     "text": [
      "Extracting /tmp/data/train-images-idx3-ubyte.gz\n"
     ]
    },
    {
     "name": "stderr",
     "output_type": "stream",
     "text": [
      "W0928 12:03:43.842335  3884 deprecation.py:323] From C:\\Users\\KITCOOP\\Anaconda3\\lib\\site-packages\\tensorflow\\contrib\\learn\\python\\learn\\datasets\\mnist.py:267: extract_labels (from tensorflow.contrib.learn.python.learn.datasets.mnist) is deprecated and will be removed in a future version.\n",
      "Instructions for updating:\n",
      "Please use tf.data to implement this functionality.\n",
      "W0928 12:03:43.903362  3884 deprecation.py:323] From C:\\Users\\KITCOOP\\Anaconda3\\lib\\site-packages\\tensorflow\\contrib\\learn\\python\\learn\\datasets\\mnist.py:290: DataSet.__init__ (from tensorflow.contrib.learn.python.learn.datasets.mnist) is deprecated and will be removed in a future version.\n",
      "Instructions for updating:\n",
      "Please use alternatives such as official/mnist/dataset.py from tensorflow/models.\n"
     ]
    },
    {
     "name": "stdout",
     "output_type": "stream",
     "text": [
      "Extracting /tmp/data/train-labels-idx1-ubyte.gz\n",
      "Extracting /tmp/data/t10k-images-idx3-ubyte.gz\n",
      "Extracting /tmp/data/t10k-labels-idx1-ubyte.gz\n"
     ]
    }
   ],
   "source": [
    "from tensorflow.examples.tutorials.mnist import input_data\n",
    "\n",
    "mnist = input_data.read_data_sets('/tmp/data/')"
   ]
  },
  {
   "cell_type": "code",
   "execution_count": 40,
   "metadata": {},
   "outputs": [],
   "source": [
    "X_test = mnist.test.images.reshape((-1, n_steps, n_inputs)) #28x28\n",
    "y_test = mnist.test.labels\n",
    "\n",
    "n_epochs =100\n",
    "batch_size =150"
   ]
  },
  {
   "cell_type": "code",
   "execution_count": null,
   "metadata": {},
   "outputs": [
    {
     "name": "stdout",
     "output_type": "stream",
     "text": [
      "0 Train accuracy: 0.91333336 \n",
      "Test accuracy: 0.9061\n",
      "1 Train accuracy: 0.92 \n",
      "Test accuracy: 0.9455\n",
      "2 Train accuracy: 0.9533333 \n",
      "Test accuracy: 0.9523\n",
      "3 Train accuracy: 0.96 \n",
      "Test accuracy: 0.9597\n",
      "4 Train accuracy: 0.97333336 \n",
      "Test accuracy: 0.9638\n",
      "5 Train accuracy: 0.96666664 \n",
      "Test accuracy: 0.9651\n",
      "6 Train accuracy: 0.96666664 \n",
      "Test accuracy: 0.9684\n",
      "7 Train accuracy: 0.96666664 \n",
      "Test accuracy: 0.9702\n",
      "8 Train accuracy: 0.96666664 \n",
      "Test accuracy: 0.9691\n",
      "9 Train accuracy: 0.98 \n",
      "Test accuracy: 0.9649\n",
      "10 Train accuracy: 0.97333336 \n",
      "Test accuracy: 0.971\n",
      "11 Train accuracy: 0.97333336 \n",
      "Test accuracy: 0.9763\n",
      "12 Train accuracy: 0.98 \n",
      "Test accuracy: 0.9671\n",
      "13 Train accuracy: 0.97333336 \n",
      "Test accuracy: 0.9704\n",
      "14 Train accuracy: 0.99333334 \n",
      "Test accuracy: 0.9745\n",
      "15 Train accuracy: 0.99333334 \n",
      "Test accuracy: 0.972\n",
      "16 Train accuracy: 0.9866667 \n",
      "Test accuracy: 0.9736\n",
      "17 Train accuracy: 0.98 \n",
      "Test accuracy: 0.9747\n",
      "18 Train accuracy: 0.97333336 \n",
      "Test accuracy: 0.9761\n",
      "19 Train accuracy: 0.99333334 \n",
      "Test accuracy: 0.9773\n",
      "20 Train accuracy: 0.97333336 \n",
      "Test accuracy: 0.9702\n",
      "21 Train accuracy: 0.97333336 \n",
      "Test accuracy: 0.9744\n",
      "22 Train accuracy: 1.0 \n",
      "Test accuracy: 0.9716\n",
      "23 Train accuracy: 0.9866667 \n",
      "Test accuracy: 0.9691\n",
      "24 Train accuracy: 0.9866667 \n",
      "Test accuracy: 0.9778\n",
      "25 Train accuracy: 0.97333336 \n",
      "Test accuracy: 0.9789\n",
      "26 Train accuracy: 0.9866667 \n",
      "Test accuracy: 0.9704\n",
      "27 Train accuracy: 0.96666664 \n",
      "Test accuracy: 0.9781\n",
      "28 Train accuracy: 1.0 \n",
      "Test accuracy: 0.9762\n",
      "29 Train accuracy: 0.9866667 \n",
      "Test accuracy: 0.9758\n",
      "30 Train accuracy: 0.9866667 \n",
      "Test accuracy: 0.9762\n",
      "31 Train accuracy: 1.0 \n",
      "Test accuracy: 0.9777\n",
      "32 Train accuracy: 1.0 \n",
      "Test accuracy: 0.9788\n",
      "33 Train accuracy: 1.0 \n",
      "Test accuracy: 0.9747\n",
      "34 Train accuracy: 0.99333334 \n",
      "Test accuracy: 0.9742\n",
      "35 Train accuracy: 1.0 \n",
      "Test accuracy: 0.978\n",
      "36 Train accuracy: 0.9866667 \n",
      "Test accuracy: 0.9797\n",
      "37 Train accuracy: 0.9866667 \n",
      "Test accuracy: 0.9756\n",
      "38 Train accuracy: 1.0 \n",
      "Test accuracy: 0.9744\n",
      "39 Train accuracy: 0.99333334 \n",
      "Test accuracy: 0.9739\n",
      "40 Train accuracy: 0.96666664 \n",
      "Test accuracy: 0.9702\n",
      "41 Train accuracy: 0.98 \n",
      "Test accuracy: 0.9773\n",
      "42 Train accuracy: 0.99333334 \n",
      "Test accuracy: 0.9711\n",
      "43 Train accuracy: 0.97333336 \n",
      "Test accuracy: 0.9762\n",
      "44 Train accuracy: 0.99333334 \n",
      "Test accuracy: 0.9783\n",
      "45 Train accuracy: 0.99333334 \n",
      "Test accuracy: 0.9793\n",
      "46 Train accuracy: 0.99333334 \n",
      "Test accuracy: 0.9752\n",
      "47 Train accuracy: 0.99333334 \n",
      "Test accuracy: 0.9801\n",
      "48 Train accuracy: 0.9866667 \n",
      "Test accuracy: 0.9805\n",
      "49 Train accuracy: 0.9866667 \n",
      "Test accuracy: 0.9793\n",
      "50 Train accuracy: 0.9866667 \n",
      "Test accuracy: 0.9783\n",
      "51 Train accuracy: 0.9866667 \n",
      "Test accuracy: 0.9792\n",
      "52 Train accuracy: 1.0 \n",
      "Test accuracy: 0.9761\n",
      "53 Train accuracy: 0.9866667 \n",
      "Test accuracy: 0.968\n",
      "54 Train accuracy: 0.9866667 \n",
      "Test accuracy: 0.9758\n",
      "55 Train accuracy: 0.99333334 \n",
      "Test accuracy: 0.9808\n",
      "56 Train accuracy: 0.99333334 \n",
      "Test accuracy: 0.975\n",
      "57 Train accuracy: 0.98 \n",
      "Test accuracy: 0.9761\n",
      "58 Train accuracy: 0.99333334 \n",
      "Test accuracy: 0.9786\n",
      "59 Train accuracy: 0.99333334 \n",
      "Test accuracy: 0.9772\n",
      "60 Train accuracy: 1.0 \n",
      "Test accuracy: 0.9772\n",
      "61 Train accuracy: 0.99333334 \n",
      "Test accuracy: 0.9709\n",
      "62 Train accuracy: 0.9866667 \n",
      "Test accuracy: 0.977\n",
      "63 Train accuracy: 0.9866667 \n",
      "Test accuracy: 0.9779\n",
      "64 Train accuracy: 0.99333334 \n",
      "Test accuracy: 0.9814\n",
      "65 Train accuracy: 1.0 \n",
      "Test accuracy: 0.9819\n",
      "66 Train accuracy: 0.99333334 \n",
      "Test accuracy: 0.9807\n",
      "67 Train accuracy: 0.98 \n",
      "Test accuracy: 0.979\n",
      "68 Train accuracy: 0.99333334 \n",
      "Test accuracy: 0.977\n",
      "69 Train accuracy: 0.98 \n",
      "Test accuracy: 0.9736\n",
      "70 Train accuracy: 1.0 \n",
      "Test accuracy: 0.9804\n",
      "71 Train accuracy: 0.99333334 \n",
      "Test accuracy: 0.9783\n",
      "72 Train accuracy: 1.0 \n",
      "Test accuracy: 0.9782\n",
      "73 Train accuracy: 1.0 \n",
      "Test accuracy: 0.978\n",
      "74 Train accuracy: 0.99333334 \n",
      "Test accuracy: 0.9795\n",
      "75 Train accuracy: 0.99333334 \n",
      "Test accuracy: 0.9788\n",
      "76 Train accuracy: 0.99333334 \n",
      "Test accuracy: 0.979\n",
      "77 Train accuracy: 0.99333334 \n",
      "Test accuracy: 0.9745\n",
      "78 Train accuracy: 0.9866667 \n",
      "Test accuracy: 0.9774\n",
      "79 Train accuracy: 0.9866667 \n",
      "Test accuracy: 0.9806\n",
      "80 Train accuracy: 0.9866667 \n",
      "Test accuracy: 0.9807\n",
      "81 Train accuracy: 0.99333334 \n",
      "Test accuracy: 0.9757\n",
      "82 Train accuracy: 0.99333334 \n",
      "Test accuracy: 0.9785\n",
      "83 Train accuracy: 0.99333334 \n",
      "Test accuracy: 0.9803\n",
      "84 Train accuracy: 0.9866667 \n",
      "Test accuracy: 0.9743\n",
      "85 Train accuracy: 0.99333334 \n",
      "Test accuracy: 0.9768\n"
     ]
    }
   ],
   "source": [
    "with tf.Session() as sess:\n",
    "    init.run()\n",
    "    for epoch in range(n_epochs): # 100번\n",
    "        for iteration in range(mnist.train.num_examples // batch_size): # 전체를 회전, 횟수만큼 랜덤하게 돌아감\n",
    "            X_batch, y_batch = mnist.train.next_batch(batch_size)\n",
    "            X_batch = X_batch.reshape((-1, n_steps, n_inputs))\n",
    "            \n",
    "            # training_op가 꼭지라서, 돌리는 순간 연결된 셀 다 돌아감\n",
    "            sess.run(training_op, feed_dict={X:X_batch, y:y_batch})\n",
    "        \n",
    "        acc_train = accuracy.eval(feed_dict={X:X_batch, y: y_batch})\n",
    "        acc_test = accuracy.eval(feed_dict={X:X_test, y: y_test})\n",
    "        \n",
    "        print(epoch, 'Train accuracy:', acc_train, '\\nTest accuracy:', acc_test)"
   ]
  },
  {
   "cell_type": "code",
   "execution_count": null,
   "metadata": {},
   "outputs": [],
   "source": []
  }
 ],
 "metadata": {
  "kernelspec": {
   "display_name": "Python 3",
   "language": "python",
   "name": "python3"
  },
  "language_info": {
   "codemirror_mode": {
    "name": "ipython",
    "version": 3
   },
   "file_extension": ".py",
   "mimetype": "text/x-python",
   "name": "python",
   "nbconvert_exporter": "python",
   "pygments_lexer": "ipython3",
   "version": "3.7.3"
  }
 },
 "nbformat": 4,
 "nbformat_minor": 4
}
